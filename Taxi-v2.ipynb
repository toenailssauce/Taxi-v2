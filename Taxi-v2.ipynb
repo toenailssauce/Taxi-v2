{
 "cells": [
  {
   "cell_type": "code",
   "execution_count": 11,
   "metadata": {},
   "outputs": [],
   "source": [
    "# Import libraries\n",
    "\n",
    "import numpy as np # matrices\n",
    "import gym # enviroment"
   ]
  },
  {
   "cell_type": "code",
   "execution_count": 12,
   "metadata": {
    "scrolled": true
   },
   "outputs": [
    {
     "name": "stderr",
     "output_type": "stream",
     "text": [
      "[2018-12-10 14:32:12,842] Making new env: Taxi-v2\n"
     ]
    },
    {
     "name": "stdout",
     "output_type": "stream",
     "text": [
      "Observation space: Discrete(500)\n",
      "Number of possible actions: Discrete(6)\n"
     ]
    }
   ],
   "source": [
    "# Create environment (and understand it)\n",
    "\n",
    "env = gym.make('Taxi-v2') # creates environment\n",
    "print('Observation space:', env.observation_space) # dimensions of observation\n",
    "print('Number of possible actions:', env.action_space) # number of possible actions"
   ]
  },
  {
   "cell_type": "code",
   "execution_count": 13,
   "metadata": {},
   "outputs": [
    {
     "data": {
      "text/plain": [
       "109"
      ]
     },
     "execution_count": 13,
     "metadata": {},
     "output_type": "execute_result"
    }
   ],
   "source": [
    "env.reset() # initializes environment; returns initial state"
   ]
  },
  {
   "cell_type": "code",
   "execution_count": 14,
   "metadata": {},
   "outputs": [
    {
     "name": "stdout",
     "output_type": "stream",
     "text": [
      "+---------+\n",
      "|R: | : :\u001b[35mG\u001b[0m|\n",
      "|\u001b[43m \u001b[0m: : : : |\n",
      "| : : : : |\n",
      "| | : | : |\n",
      "|\u001b[34;1mY\u001b[0m| : |B: |\n",
      "+---------+\n",
      "\n"
     ]
    }
   ],
   "source": [
    "env.render() # renders the environment’s current state\n",
    "env.close() # prevents crashing"
   ]
  },
  {
   "cell_type": "code",
   "execution_count": 15,
   "metadata": {},
   "outputs": [
    {
     "data": {
      "text/plain": [
       "(109, -10, False, {'prob': 1.0})"
      ]
     },
     "execution_count": 15,
     "metadata": {},
     "output_type": "execute_result"
    }
   ],
   "source": [
    "env.step(env.action_space.sample()) # performs a random action; returns variables (state, reward, whether environment is terminated, etc.)"
   ]
  },
  {
   "cell_type": "code",
   "execution_count": 16,
   "metadata": {},
   "outputs": [
    {
     "name": "stdout",
     "output_type": "stream",
     "text": [
      "+---------+\n",
      "|R: | : :\u001b[35mG\u001b[0m|\n",
      "|\u001b[43m \u001b[0m: : : : |\n",
      "| : : : : |\n",
      "| | : | : |\n",
      "|\u001b[34;1mY\u001b[0m| : |B: |\n",
      "+---------+\n",
      "  (Dropoff)\n"
     ]
    }
   ],
   "source": [
    "env.render()\n",
    "env.close()"
   ]
  },
  {
   "cell_type": "code",
   "execution_count": 17,
   "metadata": {},
   "outputs": [],
   "source": [
    "# Implement Q learning algorithm\n",
    "\n",
    "Q = np.zeros([env.observation_space.n, env.action_space.n]) # Q action value table (dimension of states x number of possible actions)"
   ]
  },
  {
   "cell_type": "code",
   "execution_count": 18,
   "metadata": {},
   "outputs": [],
   "source": [
    "G = 0 # total accumulated reward (starts at 0)\n",
    "alpha = 0.618 # learning rate (0.618 for example’s sake)"
   ]
  },
  {
   "cell_type": "code",
   "execution_count": 19,
   "metadata": {},
   "outputs": [
    {
     "name": "stdout",
     "output_type": "stream",
     "text": [
      "Episode 50 Total Reward: -200\n",
      "Episode 100 Total Reward: -87\n",
      "Episode 150 Total Reward: 4\n",
      "Episode 200 Total Reward: 3\n",
      "Episode 250 Total Reward: -43\n",
      "Episode 300 Total Reward: 9\n",
      "Episode 350 Total Reward: 5\n",
      "Episode 400 Total Reward: 15\n",
      "Episode 450 Total Reward: 6\n",
      "Episode 500 Total Reward: 10\n",
      "Episode 550 Total Reward: 5\n",
      "Episode 600 Total Reward: 3\n",
      "Episode 650 Total Reward: 9\n",
      "Episode 700 Total Reward: 6\n",
      "Episode 750 Total Reward: 7\n",
      "Episode 800 Total Reward: 8\n",
      "Episode 850 Total Reward: 3\n",
      "Episode 900 Total Reward: 8\n",
      "Episode 950 Total Reward: 6\n",
      "Episode 1000 Total Reward: 14\n"
     ]
    }
   ],
   "source": [
    "for episode in range(1, 1001): # for each episode (game)...\n",
    "    done = False # environment starts unterminated\n",
    "    G, reward = 0, 0 # total reward and reward for each time step start at 0\n",
    "    state = env.reset() # game will start as the initial state\n",
    "    while done != True: # while the episode (game) is not finished...\n",
    "        action = np.argmax(Q[state]) # the action that the algorithm thinks is \"best\" in the given state\n",
    "        state2, reward, done, info = env.step(action) # algorithm executes action; returns the resulting state, \n",
    "                                                      #reward, done, and info\n",
    "        Q[state, action] += alpha * (reward + \n",
    "                                     np.max(Q[state2]) - \n",
    "                                     Q[state, action]) # Q value for the state and action is updated by the reward;\n",
    "                                                       #action value formula (Bellman equation)\n",
    "        G += reward # reward for this time step gets added to total reward\n",
    "        state = state2 # current state changes\n",
    "    if episode % 50 == 0: # every 50th episode...\n",
    "        print('Episode {} Total Reward: {}'.format(episode, G)) # prints the total reward"
   ]
  },
  {
   "cell_type": "code",
   "execution_count": 20,
   "metadata": {
    "scrolled": true
   },
   "outputs": [
    {
     "name": "stdout",
     "output_type": "stream",
     "text": [
      "+---------+\n",
      "|R: | : :\u001b[34;1mG\u001b[0m|\n",
      "| : : : : |\n",
      "| : : :\u001b[43m \u001b[0m: |\n",
      "| | : | : |\n",
      "|Y| : |\u001b[35mB\u001b[0m: |\n",
      "+---------+\n",
      "\n",
      "+---------+\n",
      "|R: | : :\u001b[34;1mG\u001b[0m|\n",
      "| : : : : |\n",
      "| : : : :\u001b[43m \u001b[0m|\n",
      "| | : | : |\n",
      "|Y| : |\u001b[35mB\u001b[0m: |\n",
      "+---------+\n",
      "  (East)\n",
      "Reward: -1\n",
      "+---------+\n",
      "|R: | : :\u001b[34;1mG\u001b[0m|\n",
      "| : : : :\u001b[43m \u001b[0m|\n",
      "| : : : : |\n",
      "| | : | : |\n",
      "|Y| : |\u001b[35mB\u001b[0m: |\n",
      "+---------+\n",
      "  (North)\n",
      "Reward: -1\n",
      "+---------+\n",
      "|R: | : :\u001b[34;1m\u001b[43mG\u001b[0m\u001b[0m|\n",
      "| : : : : |\n",
      "| : : : : |\n",
      "| | : | : |\n",
      "|Y| : |\u001b[35mB\u001b[0m: |\n",
      "+---------+\n",
      "  (North)\n",
      "Reward: -1\n",
      "+---------+\n",
      "|R: | : :\u001b[42mG\u001b[0m|\n",
      "| : : : : |\n",
      "| : : : : |\n",
      "| | : | : |\n",
      "|Y| : |\u001b[35mB\u001b[0m: |\n",
      "+---------+\n",
      "  (Pickup)\n",
      "Reward: -1\n",
      "+---------+\n",
      "|R: | : :G|\n",
      "| : : : :\u001b[42m_\u001b[0m|\n",
      "| : : : : |\n",
      "| | : | : |\n",
      "|Y| : |\u001b[35mB\u001b[0m: |\n",
      "+---------+\n",
      "  (South)\n",
      "Reward: -1\n",
      "+---------+\n",
      "|R: | : :G|\n",
      "| : : :\u001b[42m_\u001b[0m: |\n",
      "| : : : : |\n",
      "| | : | : |\n",
      "|Y| : |\u001b[35mB\u001b[0m: |\n",
      "+---------+\n",
      "  (West)\n",
      "Reward: -1\n",
      "+---------+\n",
      "|R: | : :G|\n",
      "| : : : : |\n",
      "| : : :\u001b[42m_\u001b[0m: |\n",
      "| | : | : |\n",
      "|Y| : |\u001b[35mB\u001b[0m: |\n",
      "+---------+\n",
      "  (South)\n",
      "Reward: -1\n",
      "+---------+\n",
      "|R: | : :G|\n",
      "| : : : : |\n",
      "| : : : : |\n",
      "| | : |\u001b[42m_\u001b[0m: |\n",
      "|Y| : |\u001b[35mB\u001b[0m: |\n",
      "+---------+\n",
      "  (South)\n",
      "Reward: -1\n",
      "+---------+\n",
      "|R: | : :G|\n",
      "| : : : : |\n",
      "| : : : : |\n",
      "| | : | : |\n",
      "|Y| : |\u001b[35m\u001b[42mB\u001b[0m\u001b[0m: |\n",
      "+---------+\n",
      "  (South)\n",
      "Reward: -1\n",
      "+---------+\n",
      "|R: | : :G|\n",
      "| : : : : |\n",
      "| : : : : |\n",
      "| | : | : |\n",
      "|Y| : |\u001b[35m\u001b[42mB\u001b[0m\u001b[0m: |\n",
      "+---------+\n",
      "  (Dropoff)\n",
      "Reward: 20\n",
      "Total Reward: 11\n"
     ]
    }
   ],
   "source": [
    "done = False\n",
    "G, reward = 0, 0\n",
    "state = env.reset()\n",
    "env.render()\n",
    "while done != True:\n",
    "    action = np.argmax(Q[state])\n",
    "    state2, reward, done, info = env.step(action)\n",
    "    env.render()\n",
    "    print('Reward: {}'.format(reward))\n",
    "    G += reward\n",
    "    state = state2\n",
    "print('Total Reward: {}'.format(G))"
   ]
  }
 ],
 "metadata": {
  "kernelspec": {
   "display_name": "Python 3",
   "language": "python",
   "name": "python3"
  },
  "language_info": {
   "codemirror_mode": {
    "name": "ipython",
    "version": 3
   },
   "file_extension": ".py",
   "mimetype": "text/x-python",
   "name": "python",
   "nbconvert_exporter": "python",
   "pygments_lexer": "ipython3",
   "version": "3.6.6"
  }
 },
 "nbformat": 4,
 "nbformat_minor": 2
}
