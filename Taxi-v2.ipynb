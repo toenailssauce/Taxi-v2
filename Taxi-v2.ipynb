{
 "cells": [
  {
   "cell_type": "code",
   "execution_count": null,
   "metadata": {},
   "outputs": [],
   "source": [
    "# Import libraries\n",
    "\n",
    "import numpy as np # matrices\n",
    "import gym # enviroment\n",
    "import random"
   ]
  },
  {
   "cell_type": "code",
   "execution_count": null,
   "metadata": {
    "scrolled": true
   },
   "outputs": [],
   "source": [
    "# Create environment (and understand it)\n",
    "\n",
    "env = gym.make('Taxi-v2') # creates environment\n",
    "print('Observation space:', env.observation_space) # dimensions of observation\n",
    "print('Number of possible actions:', env.action_space) # number of possible actions"
   ]
  },
  {
   "cell_type": "code",
   "execution_count": null,
   "metadata": {},
   "outputs": [],
   "source": [
    "env.reset() # initializes environment; returns initial state"
   ]
  },
  {
   "cell_type": "code",
   "execution_count": null,
   "metadata": {},
   "outputs": [],
   "source": [
    "env.render() # renders the environment’s current state\n",
    "env.close() # prevents crashing"
   ]
  },
  {
   "cell_type": "code",
   "execution_count": null,
   "metadata": {},
   "outputs": [],
   "source": [
    "env.step(env.action_space.sample()) # performs random action; returns variables (state, reward, whether environment is terminated, etc.)"
   ]
  },
  {
   "cell_type": "code",
   "execution_count": null,
   "metadata": {},
   "outputs": [],
   "source": [
    "env.render()\n",
    "env.close()"
   ]
  },
  {
   "cell_type": "code",
   "execution_count": null,
   "metadata": {},
   "outputs": [],
   "source": [
    "# Implement Q learning algorithm\n",
    "\n",
    "Q = np.zeros([env.observation_space.n, env.action_space.n]) # Q action value table (dimension of states x number of possible actions)"
   ]
  },
  {
   "cell_type": "code",
   "execution_count": null,
   "metadata": {},
   "outputs": [],
   "source": [
    "G = 0 # total accumulated reward (starts at 0)\n",
    "alpha = 0.618 # learning rate (0.618 for example’s sake)"
   ]
  },
  {
   "cell_type": "code",
   "execution_count": null,
   "metadata": {},
   "outputs": [],
   "source": [
    "for episode in range(1, 1001): # for each episode (game)...\n",
    "    done = False # environment starts unterminated\n",
    "    G, reward = 0, 0 # total reward and reward for each time step start at 0\n",
    "    state = env.reset() # game will start as the initial state\n",
    "    while done != True: # while the episode (game) is not finished...\n",
    "        action = np.argmax(Q[state]) # the action that the algorithm thinks is \"best\" in the given state\n",
    "        state2, reward, done, info = env.step(action) # algorithm executes action; returns the resulting state, \n",
    "                                                      #reward, done, and info\n",
    "        Q[state, action] += alpha * (reward + \n",
    "                                     np.max(Q[state2]) - \n",
    "                                     Q[state, action]) # Q value for the state and action is updated by the reward;\n",
    "                                                       #action value formula (Bellman equation)\n",
    "        G += reward # reward for this time step gets added to total reward\n",
    "        state = state2 # current state changes\n",
    "    if episode % 50 == 0: # every 50th episode...\n",
    "        print('Episode {} Total Reward: {}'.format(episode, G)) # prints the total reward"
   ]
  },
  {
   "cell_type": "code",
   "execution_count": null,
   "metadata": {
    "scrolled": true
   },
   "outputs": [],
   "source": [
    "done = False\n",
    "G, reward = 0, 0\n",
    "state = env.reset()\n",
    "env.render()\n",
    "while done != True:\n",
    "    action = np.argmax(Q[state])\n",
    "    state2, reward, done, info = env.step(action)\n",
    "    env.render()\n",
    "    print('Reward: {}'.format(reward))\n",
    "    G += reward\n",
    "    state = state2\n",
    "print('Total Reward: {}'.format(G))"
   ]
  },
  {
   "cell_type": "code",
   "execution_count": null,
   "metadata": {},
   "outputs": [],
   "source": [
    "\"\"\"import pandas as pd\n",
    "pd.set_option('display.max_rows', 500)\n",
    "pd.DataFrame(Q)\"\"\""
   ]
  },
  {
   "cell_type": "code",
   "execution_count": null,
   "metadata": {
    "code_folding": []
   },
   "outputs": [],
   "source": [
    "\"\"\"for episode in range(1, 1001): # for each episode (game)...\n",
    "    done = False # environment starts unterminated\n",
    "    G, reward = 0, 0 # total reward and reward for each time step start at 0\n",
    "    state = env.reset() # game will start as the initial state\n",
    "    while done != True: # while the episode (game) is not finished...\n",
    "        #action = np.argmax(Q[state]) # the action that the algorithm thinks is \"best\" in the given state\n",
    "        if (np.amax(Q[state]) > np.amin(Q[state])):\n",
    "            action = np.argmax(Q[state])\n",
    "        else:\n",
    "            action = env.action_space.sample()\n",
    "        state2, reward, done, info = env.step(action) # algorithm executes action; returns the resulting state, \n",
    "                                                      #reward, done, and info\n",
    "        Q[state, action] += alpha * (reward + \n",
    "                                     np.max(Q[state2]) - \n",
    "                                     Q[state, action]) # Q value for the state and action is updated by the reward;\n",
    "                                                       #action value formula (Bellman equation)\n",
    "        G += reward # reward for this time step gets added to total reward\n",
    "        state = state2 # current state changes\n",
    "    if episode % 50 == 0: # every 50th episode...\n",
    "        print('Episode {} Total Reward: {}'.format(episode, G)) # prints the total reward\n",
    "        \n",
    "done = False\n",
    "G, reward = 0, 0\n",
    "state = env.reset()\n",
    "env.render()\n",
    "while done != True:\n",
    "    #action = np.argmax(Q[state])\n",
    "    if (np.amax(Q[state]) > np.amin(Q[state])):\n",
    "        action = np.argmax(Q[state])\n",
    "    else:\n",
    "        action = env.action_space.sample()\n",
    "    state2, reward, done, info = env.step(action)\n",
    "    env.render()\n",
    "    print('Reward: {}'.format(reward))\n",
    "    G += reward\n",
    "    state = state2\n",
    "print('Total Reward: {}'.format(G))\"\"\""
   ]
  }
 ],
 "metadata": {
  "kernelspec": {
   "display_name": "Python 3",
   "language": "python",
   "name": "python3"
  },
  "language_info": {
   "codemirror_mode": {
    "name": "ipython",
    "version": 3
   },
   "file_extension": ".py",
   "mimetype": "text/x-python",
   "name": "python",
   "nbconvert_exporter": "python",
   "pygments_lexer": "ipython3",
   "version": "3.6.6"
  }
 },
 "nbformat": 4,
 "nbformat_minor": 2
}
